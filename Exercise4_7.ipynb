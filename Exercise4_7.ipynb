{
 "cells": [
  {
   "cell_type": "code",
   "execution_count": null,
   "id": "46c21422-1764-402c-934c-0980a252f4d1",
   "metadata": {},
   "outputs": [],
   "source": [
    "import pandas as pd\n",
    "import numpy as np"
   ]
  },
  {
   "cell_type": "code",
   "execution_count": null,
   "id": "a791e422-b1eb-41e4-9153-e1f04c11a621",
   "metadata": {},
   "outputs": [],
   "source": [
    "# #download csv file\n",
    "# import os\n",
    "# from urllib.request import urlretrive\n",
    "\n",
    "# file name = 'landcover_chips.csv'\n",
    "# url = (\"https://hamedalemo.github.io/advanced-geo-python/_downloads/ee367188570520ae0594.......\")\n",
    "\n",
    "# if os.path.isfile(filename):\n",
    "#     print(f\"{filename} already exists\"})\n",
    "# else\n",
    "#     urlretrieve(url, filename)"
   ]
  },
  {
   "cell_type": "code",
   "execution_count": null,
   "id": "c0727265-39a2-4b7c-bd68-98148c66932d",
   "metadata": {},
   "outputs": [],
   "source": [
    "data = pd.read_csv('landcover_chips.csv')"
   ]
  },
  {
   "cell_type": "code",
   "execution_count": null,
   "id": "1d54bad5-0409-41c8-9301-cba1ef7fa081",
   "metadata": {},
   "outputs": [],
   "source": [
    "df = pd.DataFrame(data)"
   ]
  },
  {
   "cell_type": "code",
   "execution_count": null,
   "id": "5932ea24-af10-4177-aeec-cc7da578b219",
   "metadata": {},
   "outputs": [],
   "source": [
    "df.dtypes"
   ]
  },
  {
   "cell_type": "code",
   "execution_count": null,
   "id": "6f8e8867-77d4-4cb5-b47a-31a71cd9be60",
   "metadata": {},
   "outputs": [],
   "source": [
    "df.datetime"
   ]
  },
  {
   "cell_type": "code",
   "execution_count": null,
   "id": "b197f866-a852-46ea-8860-a0f0570d6805",
   "metadata": {},
   "outputs": [],
   "source": [
    "t = df\n",
    "t['datetime'] = pd.to_datetime(df['datetime']) #, format='%Y:%M:   %d%b%Y:%H:%M:%S.%f'\n",
    "t\n",
    "\n",
    "#df['datetime'] = pd.to_datetime(t['datetime'], format='%Y-%m-%dT%H:%M:%S+0000', utc=True)\n",
    "# type(df['datetime'][1])"
   ]
  },
  {
   "cell_type": "code",
   "execution_count": null,
   "id": "a83aeeee-4b95-484f-86d0-5d3229435aaa",
   "metadata": {},
   "outputs": [],
   "source": [
    "t.dtypes"
   ]
  },
  {
   "cell_type": "code",
   "execution_count": null,
   "id": "cba25644-74b2-4350-add2-5a1d129d659f",
   "metadata": {},
   "outputs": [],
   "source": [
    "filt = t[(t['datetime'] > '2017-01-01 00:00:00') & (t['datetime'] < '2017-12-31 11:59:59')]\n",
    "print(\"The number of rows: \", filt.shape[0])\n",
    "\n",
    "# t0 = pd.Timestamp(\"2017-01-01T00:00:00Z\")\n",
    "# t1 = pd.Timestamp(\"2017-12-31T11:59:59Z\")"
   ]
  },
  {
   "cell_type": "code",
   "execution_count": null,
   "id": "f9b7d413-f21f-45ac-b595-805ccf93acfc",
   "metadata": {},
   "outputs": [],
   "source": [
    "from matplotlib import pyplot as plt"
   ]
  },
  {
   "cell_type": "code",
   "execution_count": null,
   "id": "cc6114da-5c05-47ce-abf9-a7b285d9d2b6",
   "metadata": {},
   "outputs": [],
   "source": [
    "t['datehour'] = t['datetime'].dt.hour"
   ]
  },
  {
   "cell_type": "code",
   "execution_count": null,
   "id": "aa9100c9-5f0c-4f41-bb3e-b08b63f9d1d7",
   "metadata": {},
   "outputs": [],
   "source": [
    "fix, ax = plt.subplots(figure-(5,5))\n",
    "ax.bar(t...\n"
   ]
  },
  {
   "cell_type": "code",
   "execution_count": null,
   "id": "2f202929-35ce-4248-a960-1ce6aba6047a",
   "metadata": {},
   "outputs": [],
   "source": [
    "#in jupyter lab, go to the environment.yml file and add any new desired libraries\n",
    "# then go to WSL\n",
    "# conda env update -f environment.yml  (I may need to do the update on jupyter, then shutdown so that i can switch into my\n",
    "# desired environment!!)"
   ]
  },
  {
   "cell_type": "code",
   "execution_count": null,
   "id": "7c4bfab7-1b88-49d5-a1a7-36d0c5d58198",
   "metadata": {},
   "outputs": [],
   "source": [
    "### His aproach"
   ]
  },
  {
   "cell_type": "code",
   "execution_count": null,
   "id": "8512b4ca-8730-48ed-b46c-a685fff80100",
   "metadata": {},
   "outputs": [],
   "source": [
    "from ast import literal_eval"
   ]
  },
  {
   "cell_type": "code",
   "execution_count": null,
   "id": "16bf182f-8f76-4be7-bc3d-62863f13af8e",
   "metadata": {},
   "outputs": [],
   "source": [
    "t['landcover'] = t['landcover'].apply(literal_eval)"
   ]
  },
  {
   "cell_type": "code",
   "execution_count": null,
   "id": "7b00569c-76a1-4e07-be63-fa68c39cd464",
   "metadata": {},
   "outputs": [],
   "source": [
    "exploded_lc = t.explode('landcover', ignore_index = True)['landcover']"
   ]
  },
  {
   "cell_type": "code",
   "execution_count": null,
   "id": "a46b0598-b020-4dd4-a850-a7b36cfa1e6f",
   "metadata": {},
   "outputs": [],
   "source": [
    "unique_lc_classes = list(exploded_lc.unique())"
   ]
  },
  {
   "cell_type": "code",
   "execution_count": null,
   "id": "06c97574-33ec-45c6-88d6-61c600cda893",
   "metadata": {},
   "outputs": [],
   "source": [
    "print(f\"This is the list of unique land cover options in the file: {filename} \\n {unique_lc_classes}\")"
   ]
  },
  {
   "cell_type": "code",
   "execution_count": null,
   "id": "8f07eb8f-b6c8-43f3-a417-7f26819dc618",
   "metadata": {},
   "outputs": [],
   "source": [
    "### My aproach"
   ]
  },
  {
   "cell_type": "code",
   "execution_count": null,
   "id": "232e5f56-b66c-4813-a03c-208b97e733ed",
   "metadata": {},
   "outputs": [],
   "source": [
    "z = t['landcover'].unique()\n",
    "z\n",
    "\n",
    "flattened_array = np.array(z).flatten()\n",
    "unique_strings = np.unique(flattened_array)"
   ]
  }
 ],
 "metadata": {
  "kernelspec": {
   "display_name": "Python (firstenv)",
   "language": "python",
   "name": "firstenv"
  },
  "language_info": {
   "codemirror_mode": {
    "name": "ipython",
    "version": 3
   },
   "file_extension": ".py",
   "mimetype": "text/x-python",
   "name": "python",
   "nbconvert_exporter": "python",
   "pygments_lexer": "ipython3",
   "version": "3.12.5"
  }
 },
 "nbformat": 4,
 "nbformat_minor": 5
}
