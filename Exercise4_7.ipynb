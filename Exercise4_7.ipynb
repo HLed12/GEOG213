{
 "cells": [
  {
   "cell_type": "code",
   "execution_count": 83,
   "id": "46c21422-1764-402c-934c-0980a252f4d1",
   "metadata": {},
   "outputs": [],
   "source": [
    "import pandas as pd\n",
    "import numpy as np"
   ]
  },
  {
   "cell_type": "code",
   "execution_count": null,
   "id": "a791e422-b1eb-41e4-9153-e1f04c11a621",
   "metadata": {},
   "outputs": [],
   "source": [
    "# #download csv file\n",
    "# import os\n",
    "# from urllib.request import urlretrive\n",
    "\n",
    "# file name = 'landcover_chips.csv'\n",
    "# url = (\"https://hamedalemo.github.io/advanced-geo-python/_downloads/ee367188570520ae0594.......\")\n",
    "\n",
    "# if os.path.isfile(filename):\n",
    "#     print(f\"{filename} already exists\"})\n",
    "# else\n",
    "#     urlretrieve(url, filename)"
   ]
  },
  {
   "cell_type": "code",
   "execution_count": 34,
   "id": "c0727265-39a2-4b7c-bd68-98148c66932d",
   "metadata": {},
   "outputs": [],
   "source": [
    "data = pd.read_csv('landcover_chips.csv')"
   ]
  },
  {
   "cell_type": "code",
   "execution_count": 35,
   "id": "1d54bad5-0409-41c8-9301-cba1ef7fa081",
   "metadata": {},
   "outputs": [],
   "source": [
    "df = pd.DataFrame(data)"
   ]
  },
  {
   "cell_type": "code",
   "execution_count": 36,
   "id": "5932ea24-af10-4177-aeec-cc7da578b219",
   "metadata": {},
   "outputs": [
    {
     "data": {
      "text/plain": [
       "id            int64\n",
       "landcover    object\n",
       "datetime     object\n",
       "dtype: object"
      ]
     },
     "execution_count": 36,
     "metadata": {},
     "output_type": "execute_result"
    }
   ],
   "source": [
    "df.dtypes"
   ]
  },
  {
   "cell_type": "code",
   "execution_count": 37,
   "id": "6f8e8867-77d4-4cb5-b47a-31a71cd9be60",
   "metadata": {},
   "outputs": [
    {
     "data": {
      "text/plain": [
       "0      2017-09-06T10:10:19+0000\n",
       "1      2018-02-05T10:02:11+0000\n",
       "2      2017-12-01T11:24:31+0000\n",
       "3      2018-05-09T09:20:29+0000\n",
       "4      2017-10-02T11:21:12+0000\n",
       "                 ...           \n",
       "245    2018-05-27T09:30:41+0000\n",
       "246    2017-10-02T11:21:12+0000\n",
       "247    2017-09-05T09:50:31+0000\n",
       "248    2017-11-01T09:41:32+0000\n",
       "249    2017-08-31T09:50:29+0000\n",
       "Name: datetime, Length: 250, dtype: object"
      ]
     },
     "execution_count": 37,
     "metadata": {},
     "output_type": "execute_result"
    }
   ],
   "source": [
    "df.datetime"
   ]
  },
  {
   "cell_type": "code",
   "execution_count": 39,
   "id": "b197f866-a852-46ea-8860-a0f0570d6805",
   "metadata": {},
   "outputs": [
    {
     "data": {
      "text/html": [
       "<div>\n",
       "<style scoped>\n",
       "    .dataframe tbody tr th:only-of-type {\n",
       "        vertical-align: middle;\n",
       "    }\n",
       "\n",
       "    .dataframe tbody tr th {\n",
       "        vertical-align: top;\n",
       "    }\n",
       "\n",
       "    .dataframe thead th {\n",
       "        text-align: right;\n",
       "    }\n",
       "</style>\n",
       "<table border=\"1\" class=\"dataframe\">\n",
       "  <thead>\n",
       "    <tr style=\"text-align: right;\">\n",
       "      <th></th>\n",
       "      <th>id</th>\n",
       "      <th>landcover</th>\n",
       "      <th>datetime</th>\n",
       "    </tr>\n",
       "  </thead>\n",
       "  <tbody>\n",
       "    <tr>\n",
       "      <th>0</th>\n",
       "      <td>1</td>\n",
       "      <td>[\"Sea and ocean\"]</td>\n",
       "      <td>2017-09-06 10:10:19+00:00</td>\n",
       "    </tr>\n",
       "    <tr>\n",
       "      <th>1</th>\n",
       "      <td>2</td>\n",
       "      <td>[\"Discontinuous urban fabric\", \"Coniferous for...</td>\n",
       "      <td>2018-02-05 10:02:11+00:00</td>\n",
       "    </tr>\n",
       "    <tr>\n",
       "      <th>2</th>\n",
       "      <td>3</td>\n",
       "      <td>[\"Sea and ocean\"]</td>\n",
       "      <td>2017-12-01 11:24:31+00:00</td>\n",
       "    </tr>\n",
       "    <tr>\n",
       "      <th>3</th>\n",
       "      <td>4</td>\n",
       "      <td>[\"Pastures\", \"Complex cultivation patterns\", \"...</td>\n",
       "      <td>2018-05-09 09:20:29+00:00</td>\n",
       "    </tr>\n",
       "    <tr>\n",
       "      <th>4</th>\n",
       "      <td>5</td>\n",
       "      <td>[\"Non-irrigated arable land\", \"Pastures\", \"Lan...</td>\n",
       "      <td>2017-10-02 11:21:12+00:00</td>\n",
       "    </tr>\n",
       "    <tr>\n",
       "      <th>...</th>\n",
       "      <td>...</td>\n",
       "      <td>...</td>\n",
       "      <td>...</td>\n",
       "    </tr>\n",
       "    <tr>\n",
       "      <th>245</th>\n",
       "      <td>246</td>\n",
       "      <td>[\"Mineral extraction sites\", \"Non-irrigated ar...</td>\n",
       "      <td>2018-05-27 09:30:41+00:00</td>\n",
       "    </tr>\n",
       "    <tr>\n",
       "      <th>246</th>\n",
       "      <td>247</td>\n",
       "      <td>[\"Pastures\", \"Broad-leaved forest\", \"Transitio...</td>\n",
       "      <td>2017-10-02 11:21:12+00:00</td>\n",
       "    </tr>\n",
       "    <tr>\n",
       "      <th>247</th>\n",
       "      <td>248</td>\n",
       "      <td>[\"Mixed forest\", \"Transitional woodland/shrub\"]</td>\n",
       "      <td>2017-09-05 09:50:31+00:00</td>\n",
       "    </tr>\n",
       "    <tr>\n",
       "      <th>248</th>\n",
       "      <td>249</td>\n",
       "      <td>[\"Land principally occupied by agriculture, wi...</td>\n",
       "      <td>2017-11-01 09:41:32+00:00</td>\n",
       "    </tr>\n",
       "    <tr>\n",
       "      <th>249</th>\n",
       "      <td>250</td>\n",
       "      <td>[\"Non-irrigated arable land\", \"Broad-leaved fo...</td>\n",
       "      <td>2017-08-31 09:50:29+00:00</td>\n",
       "    </tr>\n",
       "  </tbody>\n",
       "</table>\n",
       "<p>250 rows × 3 columns</p>\n",
       "</div>"
      ],
      "text/plain": [
       "      id                                          landcover  \\\n",
       "0      1                                  [\"Sea and ocean\"]   \n",
       "1      2  [\"Discontinuous urban fabric\", \"Coniferous for...   \n",
       "2      3                                  [\"Sea and ocean\"]   \n",
       "3      4  [\"Pastures\", \"Complex cultivation patterns\", \"...   \n",
       "4      5  [\"Non-irrigated arable land\", \"Pastures\", \"Lan...   \n",
       "..   ...                                                ...   \n",
       "245  246  [\"Mineral extraction sites\", \"Non-irrigated ar...   \n",
       "246  247  [\"Pastures\", \"Broad-leaved forest\", \"Transitio...   \n",
       "247  248    [\"Mixed forest\", \"Transitional woodland/shrub\"]   \n",
       "248  249  [\"Land principally occupied by agriculture, wi...   \n",
       "249  250  [\"Non-irrigated arable land\", \"Broad-leaved fo...   \n",
       "\n",
       "                     datetime  \n",
       "0   2017-09-06 10:10:19+00:00  \n",
       "1   2018-02-05 10:02:11+00:00  \n",
       "2   2017-12-01 11:24:31+00:00  \n",
       "3   2018-05-09 09:20:29+00:00  \n",
       "4   2017-10-02 11:21:12+00:00  \n",
       "..                        ...  \n",
       "245 2018-05-27 09:30:41+00:00  \n",
       "246 2017-10-02 11:21:12+00:00  \n",
       "247 2017-09-05 09:50:31+00:00  \n",
       "248 2017-11-01 09:41:32+00:00  \n",
       "249 2017-08-31 09:50:29+00:00  \n",
       "\n",
       "[250 rows x 3 columns]"
      ]
     },
     "execution_count": 39,
     "metadata": {},
     "output_type": "execute_result"
    }
   ],
   "source": [
    "t = df\n",
    "t['datetime'] = pd.to_datetime(df['datetime']) #, format='%Y:%M:   %d%b%Y:%H:%M:%S.%f'\n",
    "t\n",
    "\n",
    "#df['datetime'] = pd.to_datetime(t['datetime'], format='%Y-%m-%dT%H:%M:%S+0000', utc=True)\n",
    "# type(df['datetime'][1])"
   ]
  },
  {
   "cell_type": "code",
   "execution_count": 49,
   "id": "a83aeeee-4b95-484f-86d0-5d3229435aaa",
   "metadata": {},
   "outputs": [
    {
     "data": {
      "text/plain": [
       "id                         int64\n",
       "landcover                 object\n",
       "datetime     datetime64[ns, UTC]\n",
       "dtype: object"
      ]
     },
     "execution_count": 49,
     "metadata": {},
     "output_type": "execute_result"
    }
   ],
   "source": [
    "t.dtypes"
   ]
  },
  {
   "cell_type": "code",
   "execution_count": 74,
   "id": "cba25644-74b2-4350-add2-5a1d129d659f",
   "metadata": {},
   "outputs": [
    {
     "name": "stdout",
     "output_type": "stream",
     "text": [
      "The number of rows:  140\n"
     ]
    }
   ],
   "source": [
    "filt = t[(t['datetime'] > '2017-01-01 00:00:00') & (t['datetime'] < '2017-12-31 11:59:59')]\n",
    "print(\"The number of rows: \", filt.shape[0])\n",
    "\n",
    "# t0 = pd.Timestamp(\"2017-01-01T00:00:00Z\")\n",
    "# t1 = pd.Timestamp(\"2017-12-31T11:59:59Z\")"
   ]
  },
  {
   "cell_type": "code",
   "execution_count": 1,
   "id": "f9b7d413-f21f-45ac-b595-805ccf93acfc",
   "metadata": {},
   "outputs": [],
   "source": [
    "from matplotlib import pyplot as plt"
   ]
  },
  {
   "cell_type": "code",
   "execution_count": 2,
   "id": "cc6114da-5c05-47ce-abf9-a7b285d9d2b6",
   "metadata": {},
   "outputs": [
    {
     "ename": "NameError",
     "evalue": "name 't' is not defined",
     "output_type": "error",
     "traceback": [
      "\u001b[0;31m---------------------------------------------------------------------------\u001b[0m",
      "\u001b[0;31mNameError\u001b[0m                                 Traceback (most recent call last)",
      "Cell \u001b[0;32mIn[2], line 1\u001b[0m\n\u001b[0;32m----> 1\u001b[0m t[\u001b[38;5;124m'\u001b[39m\u001b[38;5;124mdatehour\u001b[39m\u001b[38;5;124m'\u001b[39m] \u001b[38;5;241m=\u001b[39m t[\u001b[38;5;124m'\u001b[39m\u001b[38;5;124mdatetime\u001b[39m\u001b[38;5;124m'\u001b[39m]\u001b[38;5;241m.\u001b[39mdt\u001b[38;5;241m.\u001b[39mhour\n",
      "\u001b[0;31mNameError\u001b[0m: name 't' is not defined"
     ]
    }
   ],
   "source": [
    "t['datehour'] = t['datetime'].dt.hour"
   ]
  },
  {
   "cell_type": "code",
   "execution_count": null,
   "id": "aa9100c9-5f0c-4f41-bb3e-b08b63f9d1d7",
   "metadata": {},
   "outputs": [],
   "source": [
    "fix, ax = plt.subplots(figure-(5,5))\n",
    "ax.bar(t...\n"
   ]
  },
  {
   "cell_type": "code",
   "execution_count": null,
   "id": "2f202929-35ce-4248-a960-1ce6aba6047a",
   "metadata": {},
   "outputs": [],
   "source": [
    "#in jupyter lab, go to the environment.yml file and add any new desired libraries\n",
    "# then go to WSL\n",
    "# conda env update -f environment.yml  (I may need to do the update on jupyter, then shutdown so that i can switch into my\n",
    "# desired environment!!)"
   ]
  },
  {
   "cell_type": "code",
   "execution_count": null,
   "id": "7c4bfab7-1b88-49d5-a1a7-36d0c5d58198",
   "metadata": {},
   "outputs": [],
   "source": [
    "### His aproach"
   ]
  },
  {
   "cell_type": "code",
   "execution_count": null,
   "id": "8512b4ca-8730-48ed-b46c-a685fff80100",
   "metadata": {},
   "outputs": [],
   "source": [
    "from ast import literal_eval"
   ]
  },
  {
   "cell_type": "code",
   "execution_count": null,
   "id": "16bf182f-8f76-4be7-bc3d-62863f13af8e",
   "metadata": {},
   "outputs": [],
   "source": [
    "t['landcover'] = t['landcover'].apply(literal_eval)"
   ]
  },
  {
   "cell_type": "code",
   "execution_count": null,
   "id": "7b00569c-76a1-4e07-be63-fa68c39cd464",
   "metadata": {},
   "outputs": [],
   "source": [
    "exploded_lc = t.explode('landcover', ignore_index = True)['landcover']"
   ]
  },
  {
   "cell_type": "code",
   "execution_count": null,
   "id": "a46b0598-b020-4dd4-a850-a7b36cfa1e6f",
   "metadata": {},
   "outputs": [],
   "source": [
    "unique_lc_classes = list(exploded_lc.unique())"
   ]
  },
  {
   "cell_type": "code",
   "execution_count": null,
   "id": "06c97574-33ec-45c6-88d6-61c600cda893",
   "metadata": {},
   "outputs": [],
   "source": [
    "print(f\"This is the list of unique land cover options in the file: {filename} \\n {unique_lc_classes}\")"
   ]
  },
  {
   "cell_type": "code",
   "execution_count": null,
   "id": "8f07eb8f-b6c8-43f3-a417-7f26819dc618",
   "metadata": {},
   "outputs": [],
   "source": [
    "### My aproach"
   ]
  },
  {
   "cell_type": "code",
   "execution_count": null,
   "id": "232e5f56-b66c-4813-a03c-208b97e733ed",
   "metadata": {},
   "outputs": [],
   "source": [
    "z = t['landcover'].unique()\n",
    "z\n",
    "\n",
    "flattened_array = np.array(z).flatten()\n",
    "unique_strings = np.unique(flattened_array)"
   ]
  }
 ],
 "metadata": {
  "kernelspec": {
   "display_name": "Python (firstenv)",
   "language": "python",
   "name": "firstenv"
  },
  "language_info": {
   "codemirror_mode": {
    "name": "ipython",
    "version": 3
   },
   "file_extension": ".py",
   "mimetype": "text/x-python",
   "name": "python",
   "nbconvert_exporter": "python",
   "pygments_lexer": "ipython3",
   "version": "3.12.5"
  }
 },
 "nbformat": 4,
 "nbformat_minor": 5
}
